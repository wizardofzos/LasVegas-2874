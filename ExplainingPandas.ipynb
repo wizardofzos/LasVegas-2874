{
 "cells": [
  {
   "cell_type": "code",
   "execution_count": null,
   "id": "8e155b4e-67ae-42a2-b6cc-cbd56167459d",
   "metadata": {},
   "outputs": [],
   "source": [
    "# Let's work with Pandas\n",
    "import pandas as pd"
   ]
  },
  {
   "cell_type": "code",
   "execution_count": null,
   "id": "84047acd-151d-4797-b168-44bcc5eb3814",
   "metadata": {},
   "outputs": [],
   "source": [
    "# Let's use some (ChatGPT random generated data)\n",
    "conference_data = {\n",
    "    'Session': [\n",
    "        'Mainframe Modernization Strategies', \n",
    "        'Legacy System Integration Challenges', \n",
    "        'Big Data Processing on Mainframes',\n",
    "        'AI Meets COBOL',\n",
    "        'Mainframe Security: Keeping the Dinosaurs Safe',\n",
    "        'PyRACF: Simplifying RACF with Python'\n",
    "    ],\n",
    "    'Title': [\n",
    "        'Optimizing Legacy Systems for Modern Demands... and Budget Cuts', \n",
    "        'Bridging the Gap: Integrating Mainframes with Cloud Without Panic Attacks', \n",
    "        'Harnessing Mainframes for Big Data: Because Who Needs Hadoop?', \n",
    "        'AI and COBOL: The Odd Couple of the Century', \n",
    "        'Keeping Your Mainframe Secure: Jurassic Park Edition',\n",
    "        'PyRACF: Making Mainframe Security Less Scary'\n",
    "    ],\n",
    "    'Speaker': [\n",
    "        'Dr. Grace Hollister', \n",
    "        'Jonathan Masters', \n",
    "        'Karen Thompson', \n",
    "        'Dr. Sarah Simmons', \n",
    "        'Martin \"Security Guru\" Roberts',\n",
    "        'Henri Kuiper'\n",
    "    ],\n",
    "    'Time': [\n",
    "        '09:00 AM - 10:30 AM', \n",
    "        '11:00 AM - 12:30 PM', \n",
    "        '01:00 PM - 02:30 PM', \n",
    "        '03:00 PM - 04:00 PM', \n",
    "        '04:30 PM - 06:00 PM',\n",
    "        '06:00 PM - 07:00 PM'\n",
    "    ],\n",
    "    'Room': [\n",
    "        'Mandalay Bay Ballroom A', \n",
    "        'Mandalay Bay Ballroom B', \n",
    "        'Mandalay Bay Ballroom C', \n",
    "        'Mandalay Bay Conference Room 1', \n",
    "        'Mandalay Bay Conference Room 2',\n",
    "        'Mandalay Bay Ballroom A'\n",
    "    ]\n",
    "}"
   ]
  },
  {
   "cell_type": "code",
   "execution_count": null,
   "id": "403de50d-ff2c-428c-9b7c-97ca68d97dd8",
   "metadata": {},
   "outputs": [],
   "source": [
    "# Now, let's parse that dictionary into a Pandas Dataframe\n",
    "panda = pd.DataFrame.from_dict(conference_data)"
   ]
  },
  {
   "cell_type": "code",
   "execution_count": null,
   "id": "a966acb3-c323-4788-a4d4-ee5505c4e45b",
   "metadata": {},
   "outputs": [],
   "source": [
    "# And let's see that data\n",
    "panda"
   ]
  },
  {
   "cell_type": "code",
   "execution_count": null,
   "id": "a3c9a3d4-0dba-4158-a0c4-3cdddce9aa59",
   "metadata": {},
   "outputs": [],
   "source": [
    "# Filter sessions where the title contains \"Security\"\n",
    "panda[panda['Title'].str.contains('Security')]"
   ]
  },
  {
   "cell_type": "code",
   "execution_count": null,
   "id": "6b76f42a-cece-497f-a490-d5379183cdb9",
   "metadata": {},
   "outputs": [],
   "source": []
  }
 ],
 "metadata": {
  "kernelspec": {
   "display_name": "Python 3 (ipykernel)",
   "language": "python",
   "name": "python3"
  },
  "language_info": {
   "codemirror_mode": {
    "name": "ipython",
    "version": 3
   },
   "file_extension": ".py",
   "mimetype": "text/x-python",
   "name": "python",
   "nbconvert_exporter": "python",
   "pygments_lexer": "ipython3",
   "version": "3.9.6"
  }
 },
 "nbformat": 4,
 "nbformat_minor": 5
}
