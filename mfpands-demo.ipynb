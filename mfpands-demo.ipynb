{
 "cells": [
  {
   "cell_type": "code",
   "execution_count": null,
   "id": "a19d09ca-88ea-4835-8904-4790d0f0d3ee",
   "metadata": {},
   "outputs": [],
   "source": [
    "# import the IRRDBU00 parser\n",
    "from mfpandas import IRRDBU00"
   ]
  },
  {
   "cell_type": "code",
   "execution_count": null,
   "id": "4f9be2f7-bf5b-406c-8713-96c8d0cbd9c2",
   "metadata": {},
   "outputs": [],
   "source": [
    "# point it to the ZPDT unload\n",
    "zpdt = IRRDBU00(irrdbu00='irrdbu00-zpdt')"
   ]
  },
  {
   "cell_type": "code",
   "execution_count": null,
   "id": "29a34d64-0f07-4e9a-bc1e-0888340c9d8a",
   "metadata": {},
   "outputs": [],
   "source": [
    "# do a fancy parse (so it looks cooler in the demo)\n",
    "zpdt.parse_fancycli()"
   ]
  },
  {
   "cell_type": "code",
   "execution_count": null,
   "id": "10ace452-16fc-470e-a296-648e71c60392",
   "metadata": {},
   "outputs": [],
   "source": [
    "# get the users\n",
    "zpdt.users"
   ]
  },
  {
   "cell_type": "code",
   "execution_count": null,
   "id": "f7301ce9-c2f6-40f4-a4e0-58e892089667",
   "metadata": {},
   "outputs": [],
   "source": [
    "# get all the special users\n",
    "zpdt.specials"
   ]
  },
  {
   "cell_type": "code",
   "execution_count": null,
   "id": "a3331cdd-57fa-41f1-85fd-6609cc40f459",
   "metadata": {},
   "outputs": [],
   "source": [
    "# get all the groups\n",
    "zpdt.groups"
   ]
  },
  {
   "cell_type": "code",
   "execution_count": null,
   "id": "a9bca201-58f5-4b7c-9aa4-46bd170c3878",
   "metadata": {},
   "outputs": [],
   "source": [
    "# get all the datasetprofiles\n",
    "zpdt.datasets"
   ]
  },
  {
   "cell_type": "code",
   "execution_count": null,
   "id": "1ba4e093-b4d7-4d63-ae37-ec3c04a5ec9c",
   "metadata": {},
   "outputs": [],
   "source": [
    "# who has access to the datasets\n",
    "zpdt.datasetAccess"
   ]
  },
  {
   "cell_type": "code",
   "execution_count": null,
   "id": "65af12ad-dba7-4cc3-ab96-13cb431dc632",
   "metadata": {},
   "outputs": [],
   "source": [
    "# who has ALTER to what?\n",
    "zpdt.datasetAccess.loc[zpdt.datasetAccess.DSACC_ACCESS==\"ALTER\"]"
   ]
  },
  {
   "cell_type": "code",
   "execution_count": null,
   "id": "b8fd5f05-ca1b-42be-b697-c7503c9df3f2",
   "metadata": {},
   "outputs": [],
   "source": [
    "# Generate some RACF commands\n",
    "# all users that start with \"A\" need ALTER to datasets that start with \"C\"\n",
    "for user in zpdt.users['USBD_NAME'].values:\n",
    "    if user[0] == \"A\":\n",
    "        for dataset in zpdt.datasets['DSBD_NAME'].values:\n",
    "            if dataset[0] == \"C\":\n",
    "                print(f\"PERMIT '{dataset}' ID({user}) ACCESS(ALTER)\")\n",
    "# yeah we would need this to be complete\n",
    "print(\"SETROPTS GENERIC(DATASET) REFRESH\")"
   ]
  },
  {
   "cell_type": "code",
   "execution_count": null,
   "id": "49942347-c073-4baa-b5c0-eca85c598757",
   "metadata": {},
   "outputs": [],
   "source": [
    "# select user and password alorithm\n",
    "zpdt.users[['USBD_NAME', 'USBD_PWD_ALG']]"
   ]
  },
  {
   "cell_type": "code",
   "execution_count": null,
   "id": "1bdd2641-fb35-4b2e-8ff0-998322499c7f",
   "metadata": {},
   "outputs": [],
   "source": [
    "# generate full xls report of the racf database (warnings will come due to pandas updates I haven't implemented yet)\n",
    "zpdt.xls(fileName='Vegas.xls')"
   ]
  },
  {
   "cell_type": "code",
   "execution_count": null,
   "id": "86c90c00-e4df-4f4f-96f0-c4273dc6f201",
   "metadata": {},
   "outputs": [],
   "source": []
  }
 ],
 "metadata": {
  "kernelspec": {
   "display_name": "Python 3 (ipykernel)",
   "language": "python",
   "name": "python3"
  },
  "language_info": {
   "codemirror_mode": {
    "name": "ipython",
    "version": 3
   },
   "file_extension": ".py",
   "mimetype": "text/x-python",
   "name": "python",
   "nbconvert_exporter": "python",
   "pygments_lexer": "ipython3",
   "version": "3.9.6"
  }
 },
 "nbformat": 4,
 "nbformat_minor": 5
}
